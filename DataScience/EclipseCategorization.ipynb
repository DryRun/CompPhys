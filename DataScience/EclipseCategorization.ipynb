{
  "nbformat": 4,
  "nbformat_minor": 0,
  "metadata": {
    "colab": {
      "provenance": [],
      "authorship_tag": "ABX9TyMBvG7RJQ0Wvvysj0LXszL3",
      "include_colab_link": true
    },
    "kernelspec": {
      "name": "python3",
      "display_name": "Python 3"
    },
    "language_info": {
      "name": "python"
    }
  },
  "cells": [
    {
      "cell_type": "markdown",
      "metadata": {
        "id": "view-in-github",
        "colab_type": "text"
      },
      "source": [
        "<a href=\"https://colab.research.google.com/github/ubsuny/CompPhys/blob/EclipseExample/DataScience/EclipseCategorization.ipynb\" target=\"_parent\"><img src=\"https://colab.research.google.com/assets/colab-badge.svg\" alt=\"Open In Colab\"/></a>"
      ]
    },
    {
      "cell_type": "markdown",
      "source": [
        "# Categorization of solar eclipses\n",
        "\n",
        "[CCby4.0](https://creativecommons.org/licenses/by/4.0/), Tim Thomay, 2024)\n",
        "\n",
        "Ideas based on this repository: (https://github.com/MrVtR/Solar_And_Lunar_Eclipses_Machine_Learning_Classification_Project/tree/main)\n",
        "\n",
        "using data from: (https://www.kaggle.com/datasets/nasa/solar-eclipses)\n"
      ],
      "metadata": {
        "id": "S0JnvbdG5n3m"
      }
    },
    {
      "cell_type": "code",
      "source": [
        "import tensorflow as tf\n",
        "import numpy as np\n",
        "import pandas as pd\n",
        "import matplotlib.pyplot as plt\n"
      ],
      "metadata": {
        "id": "tBhSyh_j5mwU"
      },
      "execution_count": null,
      "outputs": []
    },
    {
      "cell_type": "markdown",
      "source": [
        "## Get eclipse data"
      ],
      "metadata": {
        "id": "ULKqRGCzxa9_"
      }
    },
    {
      "cell_type": "code",
      "source": [
        "dfSolar = pd.read_csv(\"solar.csv\")\n",
        "dfSolar.info()"
      ],
      "metadata": {
        "id": "99R6t14O7e9r"
      },
      "execution_count": null,
      "outputs": []
    },
    {
      "cell_type": "markdown",
      "source": [
        "### Convert Latitude / Longitude data to computer readable format"
      ],
      "metadata": {
        "id": "tm4SNsPxxfgq"
      }
    },
    {
      "cell_type": "code",
      "source": [
        "def lat_conv(lat):\n",
        "  if lat[-1] == \"S\":\n",
        "    lat = float(lat[:-1])*-1\n",
        "  else:\n",
        "    lat = float(lat[:-1])\n",
        "  return lat\n",
        "def lon_conv(lon):\n",
        "  if lon[-1] == \"W\":\n",
        "    lon = float(lon[:-1])*-1\n",
        "  else:\n",
        "    lon = float(lon[:-1])\n",
        "  return lon\n"
      ],
      "metadata": {
        "id": "wV_6SbJEYYB-"
      },
      "execution_count": null,
      "outputs": []
    },
    {
      "cell_type": "code",
      "source": [
        "dfSolar['declat'] = dfSolar.apply(lambda row: lat_conv(row['Latitude']),axis=1)\n",
        "dfSolar['declon'] = dfSolar.apply(lambda row: lon_conv(row['Longitude']),axis=1)"
      ],
      "metadata": {
        "id": "mDDr-R0PXlzZ"
      },
      "execution_count": null,
      "outputs": []
    },
    {
      "cell_type": "markdown",
      "source": [
        "## types of solar eclipse\n",
        "from [wikipedia](https://en.wikipedia.org/wiki/Solar_eclipse?wprov=sfti1#Types):\n",
        "\n",
        "There are four types of solar eclipses:\n",
        "\n",
        "- A total eclipse occurs on average every 18 months when the dark silhouette of the Moon completely obscures the intensely bright light of the Sun, allowing the much fainter solar corona to be visible. During any one eclipse, totality occurs at best only in a narrow track on the surface of Earth. This narrow track is called the path of totality.\n",
        "- An annular eclipse occurs once every one or two years when the Sun and Moon are exactly in line with Earth, but the apparent size of the Moon is smaller than that of the Sun. Hence the Sun appears as a very bright ring, or annulus, surrounding the dark disk of the Moon.\n",
        "- A hybrid eclipse (also called annular/total eclipse) shifts between a total and annular eclipse. At certain points on the surface of Earth, it appears as a total eclipse, whereas at other points it appears as annular. Hybrid eclipses are comparatively rare.\n",
        "- A partial eclipse occurs about twice a year, when the Sun and Moon are not exactly in line with Earth and the Moon only partially obscures the Sun. This phenomenon can usually be seen from a large part of Earth outside of the track of an annular or total eclipse. However, some eclipses can be seen only as a partial eclipse, because the umbra passes above Earth's polar regions and never intersects Earth's surface. Partial eclipses are virtually unnoticeable in terms of the Sun's brightness, as it takes well over 90% coverage to notice any darkening at all. Even at 99%, it would be no darker than civil twilight."
      ],
      "metadata": {
        "id": "0ONY5Kffwhsv"
      }
    },
    {
      "cell_type": "code",
      "source": [
        "tlist = dfSolar['Eclipse Type'].unique()\n",
        "typeselector = [\"T\",\"A\",\"P\",\"H\"]\n",
        "tlist = typeselector\n",
        "clist = plt.cm.gist_rainbow(np.linspace(0, 1, len(tlist)))\n",
        "for t,c in zip(tlist,clist):\n",
        "  plt.scatter(dfSolar[dfSolar['Eclipse Type']==t]['declat'],dfSolar[dfSolar['Eclipse Type']==t]['declon'],\n",
        "              color=c,label=t,s=1)\n",
        "plt.legend(bbox_to_anchor=(1.04, 1), loc=\"upper left\")"
      ],
      "metadata": {
        "id": "CM6D6eNBtZ3j"
      },
      "execution_count": null,
      "outputs": []
    },
    {
      "cell_type": "markdown",
      "source": [
        "### Select categorization features"
      ],
      "metadata": {
        "id": "ueb_2ioLxtFy"
      }
    },
    {
      "cell_type": "code",
      "source": [
        "eclipse_features = dfSolar[dfSolar['Eclipse Type'].isin(typeselector)][['declon','declat']]\n",
        "# Convert types in integer\n",
        "eclipse_features_types = pd.DataFrame(pd.factorize(dfSolar[dfSolar['Eclipse Type'].isin(typeselector)]['Eclipse Type'])[0]+1)"
      ],
      "metadata": {
        "id": "BO-yaEQdbyaH"
      },
      "execution_count": null,
      "outputs": []
    },
    {
      "cell_type": "markdown",
      "source": [
        "### choose ML model"
      ],
      "metadata": {
        "id": "uIPWb4pcx81H"
      }
    },
    {
      "cell_type": "code",
      "source": [
        "from sklearn.model_selection import train_test_split\n",
        "from sklearn.neighbors import KNeighborsClassifier"
      ],
      "metadata": {
        "id": "6ESc7TyXpQB9"
      },
      "execution_count": null,
      "outputs": []
    },
    {
      "cell_type": "markdown",
      "source": [
        "### split in training and verification data"
      ],
      "metadata": {
        "id": "Kg_kIPRgyBJu"
      }
    },
    {
      "cell_type": "code",
      "source": [
        "X_train, X_test, y_train, y_test = train_test_split(eclipse_features, eclipse_features_types, test_size=0.3, random_state=42)"
      ],
      "metadata": {
        "id": "Y3IaNzkRp_7u"
      },
      "execution_count": null,
      "outputs": []
    },
    {
      "cell_type": "markdown",
      "source": [
        "### Train the model"
      ],
      "metadata": {
        "id": "3Vn4e0D3y0Pr"
      }
    },
    {
      "cell_type": "code",
      "source": [
        "model = KNeighborsClassifier() # n_neighbors=8)\n",
        "model.fit(X_train, y_train) #.values.ravel())"
      ],
      "metadata": {
        "id": "OhwEQTHpcCIS"
      },
      "execution_count": null,
      "outputs": []
    },
    {
      "cell_type": "markdown",
      "source": [
        "### Verify the model"
      ],
      "metadata": {
        "id": "j8-xZz-Xzi_E"
      }
    },
    {
      "cell_type": "code",
      "source": [
        "model.score(X_test, y_test)"
      ],
      "metadata": {
        "id": "_6SE_Ab0skuE"
      },
      "execution_count": null,
      "outputs": []
    },
    {
      "cell_type": "markdown",
      "source": [
        "### Use the model to predict the category of a new eclipse"
      ],
      "metadata": {
        "id": "Fsaa7IkBzpS1"
      }
    },
    {
      "cell_type": "code",
      "source": [
        "number_of_features = eclipse_features.shape[1]\n",
        "# Buffalo: -78.859415, 42.892251\n",
        "new_eclipse_features = pd.DataFrame({\"declon\":-78.859415, \"declat\":42.892251},index=[0])\n",
        "\n",
        "prediction = model.predict(new_eclipse_features)\n",
        "predicted_category = typeselector[prediction[0]]"
      ],
      "metadata": {
        "id": "zXHsSffBt9rh"
      },
      "execution_count": null,
      "outputs": []
    },
    {
      "cell_type": "code",
      "source": [
        " print(\"Predicted category:{}\".format(predicted_category))"
      ],
      "metadata": {
        "id": "fufyaLDQ7Jf5"
      },
      "execution_count": null,
      "outputs": []
    },
    {
      "cell_type": "code",
      "source": [],
      "metadata": {
        "id": "yTr9MB530b-3"
      },
      "execution_count": null,
      "outputs": []
    }
  ]
}