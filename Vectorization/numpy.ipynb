{
 "cells": [
  {
   "cell_type": "markdown",
   "metadata": {},
   "source": [
    "# Vectorization\n",
    "\n",
    "This shows the advantage of using numpy built in vectorization (and other optimizations) on the example of calculating the dot product."
   ]
  },
  {
   "cell_type": "code",
   "execution_count": 36,
   "metadata": {},
   "outputs": [
    {
     "name": "stdout",
     "output_type": "stream",
     "text": [
      "833323333350000.0\n"
     ]
    }
   ],
   "source": [
    "# Dot product not using numpy\n",
    "import array \n",
    "  \n",
    "# 8 bytes size int \n",
    "a = array.array('q') \n",
    "for i in range(100000): \n",
    "    a.append(i); \n",
    "  \n",
    "b = array.array('q') \n",
    "for i in range(100000, 200000): \n",
    "    b.append(i) \n",
    "  \n",
    "# classic dot product of vectors implementation\n",
    "dot = 0.0  \n",
    "for i in range(len(a)): \n",
    "    dot += a[i] * b[i]\n",
    "\n",
    "print(dot)\n"
   ]
  },
  {
   "cell_type": "code",
   "execution_count": 37,
   "metadata": {},
   "outputs": [
    {
     "name": "stdout",
     "output_type": "stream",
     "text": [
      "10.9 ms ± 604 µs per loop (mean ± std. dev. of 7 runs, 100 loops each)\n"
     ]
    }
   ],
   "source": [
    "%%timeit\n",
    "dot = 0.0\n",
    "for i in range(len(a)): \n",
    "    dot += a[i] * b[i]"
   ]
  },
  {
   "cell_type": "code",
   "execution_count": 38,
   "metadata": {},
   "outputs": [
    {
     "name": "stdout",
     "output_type": "stream",
     "text": [
      "833233335000.0\n"
     ]
    }
   ],
   "source": [
    "## using numpy arrays\n",
    "\n",
    "import numpy as np\n",
    "\n",
    "a = np.arange(0,10000)\n",
    "b = np.arange(10000,20000) \n",
    "\n",
    "dot = 0.0 \n",
    "for i in range(len(a)): \n",
    "      dot += a[i] * b[i] \n",
    "\n",
    "print(dot) \n"
   ]
  },
  {
   "cell_type": "code",
   "execution_count": 39,
   "metadata": {},
   "outputs": [
    {
     "name": "stdout",
     "output_type": "stream",
     "text": [
      "2.78 ms ± 285 µs per loop (mean ± std. dev. of 7 runs, 100 loops each)\n"
     ]
    }
   ],
   "source": [
    "%%timeit\n",
    "dot = 0.0 \n",
    "for i in range(len(a)): \n",
    "      dot += a[i] * b[i] "
   ]
  },
  {
   "cell_type": "code",
   "execution_count": 40,
   "metadata": {},
   "outputs": [
    {
     "name": "stdout",
     "output_type": "stream",
     "text": [
      "833233335000\n"
     ]
    }
   ],
   "source": [
    "## Vectorize function\n",
    "dot = 0.0\n",
    "def mydot(a, b):\n",
    "    return a * b\n",
    "myvecdot = np.vectorize(mydot)\n",
    "print(np.sum(myvecdot(a,b)))"
   ]
  },
  {
   "cell_type": "code",
   "execution_count": 41,
   "metadata": {},
   "outputs": [
    {
     "name": "stdout",
     "output_type": "stream",
     "text": [
      "1.11 ms ± 44.3 µs per loop (mean ± std. dev. of 7 runs, 1,000 loops each)\n"
     ]
    }
   ],
   "source": [
    "%%timeit\n",
    "np.sum(myvecdot(a,b))"
   ]
  },
  {
   "cell_type": "markdown",
   "metadata": {},
   "source": [
    "## BUT: \n",
    "The vectorize function is provided primarily for convenience, not for performance. The implementation is essentially a for loop.\n",
    "\n",
    "See: https://numpy.org/doc/stable/reference/generated/numpy.vectorize.html"
   ]
  },
  {
   "cell_type": "code",
   "execution_count": 42,
   "metadata": {},
   "outputs": [
    {
     "name": "stdout",
     "output_type": "stream",
     "text": [
      "833233335000\n"
     ]
    }
   ],
   "source": [
    "## just using numpy's smart sum function\n",
    "\n",
    "print(np.sum(a*b, axis=0))"
   ]
  },
  {
   "cell_type": "code",
   "execution_count": 43,
   "metadata": {},
   "outputs": [
    {
     "name": "stdout",
     "output_type": "stream",
     "text": [
      "8.71 µs ± 453 ns per loop (mean ± std. dev. of 7 runs, 100,000 loops each)\n"
     ]
    }
   ],
   "source": [
    "%%timeit\n",
    "np.sum(a*b, axis=0)"
   ]
  },
  {
   "cell_type": "code",
   "execution_count": 44,
   "metadata": {},
   "outputs": [
    {
     "name": "stdout",
     "output_type": "stream",
     "text": [
      "833233335000\n"
     ]
    }
   ],
   "source": [
    "## numpy dot function which is vectorized\n",
    "dot = np.dot(a, b)  \n",
    "\n",
    "print(dot) "
   ]
  },
  {
   "cell_type": "code",
   "execution_count": 45,
   "metadata": {},
   "outputs": [
    {
     "name": "stdout",
     "output_type": "stream",
     "text": [
      "7.51 µs ± 323 ns per loop (mean ± std. dev. of 7 runs, 100,000 loops each)\n"
     ]
    }
   ],
   "source": [
    "%%timeit\n",
    "dot = np.dot(a, b)  "
   ]
  },
  {
   "cell_type": "code",
   "execution_count": 46,
   "metadata": {},
   "outputs": [
    {
     "name": "stdout",
     "output_type": "stream",
     "text": [
      "833233335000\n"
     ]
    }
   ],
   "source": [
    "## numpy inner\n",
    "print(np.inner( a, b))"
   ]
  },
  {
   "cell_type": "code",
   "execution_count": 47,
   "metadata": {},
   "outputs": [
    {
     "name": "stdout",
     "output_type": "stream",
     "text": [
      "7.67 µs ± 443 ns per loop (mean ± std. dev. of 7 runs, 100,000 loops each)\n"
     ]
    }
   ],
   "source": [
    "%%timeit\n",
    "np.inner(a, b)"
   ]
  },
  {
   "cell_type": "code",
   "execution_count": 48,
   "metadata": {},
   "outputs": [
    {
     "name": "stdout",
     "output_type": "stream",
     "text": [
      "833233335000\n"
     ]
    }
   ],
   "source": [
    "## numpy einsum\n",
    "print(np.einsum('i,i', a, b))"
   ]
  },
  {
   "cell_type": "code",
   "execution_count": 49,
   "metadata": {},
   "outputs": [
    {
     "name": "stdout",
     "output_type": "stream",
     "text": [
      "5.85 µs ± 419 ns per loop (mean ± std. dev. of 7 runs, 100,000 loops each)\n"
     ]
    }
   ],
   "source": [
    "%%timeit\n",
    "np.einsum('i,i', a, b)"
   ]
  },
  {
   "cell_type": "markdown",
   "metadata": {},
   "source": [
    "## SCIPY\n",
    "\n",
    "Example ivp:\n",
    "\n",
    "> vectorized: bool, optional\n",
    "\n",
    ">Whether fun can be called in a vectorized fashion. Default is False.\n",
    "If vectorized is False, fun will always be called with y of shape (n,), where n = len(y0).\n",
    "If vectorized is True, fun may be called with y of shape (n, k), where k is an integer. In this case, fun must behave such that fun(t, y)[:, i] == fun(t, y[:, i]) (i.e. each column of the returned array is the time derivative of the state corresponding with a column of y).\n",
    "Setting vectorized=True allows for faster finite difference approximation of the Jacobian by methods ‘Radau’ and ‘BDF’, but will result in slower execution for other methods and for ‘Radau’ and ‘BDF’ in some circumstances (e.g. small len(y0))."
   ]
  },
  {
   "cell_type": "code",
   "execution_count": 27,
   "metadata": {},
   "outputs": [],
   "source": []
  },
  {
   "cell_type": "code",
   "execution_count": null,
   "metadata": {},
   "outputs": [],
   "source": []
  }
 ],
 "metadata": {
  "kernelspec": {
   "display_name": "Python 3",
   "language": "python",
   "name": "python3"
  },
  "language_info": {
   "codemirror_mode": {
    "name": "ipython",
    "version": 3
   },
   "file_extension": ".py",
   "mimetype": "text/x-python",
   "name": "python",
   "nbconvert_exporter": "python",
   "pygments_lexer": "ipython3",
   "version": "3.11.2"
  }
 },
 "nbformat": 4,
 "nbformat_minor": 2
}
